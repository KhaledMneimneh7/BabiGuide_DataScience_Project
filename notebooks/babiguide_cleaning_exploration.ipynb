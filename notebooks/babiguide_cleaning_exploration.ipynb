{
 "cells": [
  {
   "cell_type": "markdown",
   "id": "38e93176",
   "metadata": {},
   "source": [
    "# BabiGuide Data Cleaning Exploration\n",
    "\n",
    "This notebook is used for exploring the data cleaning steps performed on the Abidjan local business dataset.  \n",
    "\n",
    "All the **final cleaning steps** and the reproducible code can be found in the Python script `scripts/Cleaned_data.py`:\n",
    "\n",
    "\n",
    "The **cleaned datasets** are saved in the `data/processed/` folder in both GeoJSON and CSV formats for further analysis.  \n",
    "\n",
    "This notebook mainly serves as an **exploratory environment** to test, inspect, and validate the cleaning process before finalizing it in the script.  \n",
    "\n",
    "Key steps included:\n",
    "- Filtering and selecting relevant columns.\n",
    "- Handling missing values (`name`, `amenity`, `shop`, `tourism`).\n",
    "- Removing duplicates.\n",
    "- Standardizing business types (amenity mapping and merging categories).\n",
    "- Adding dummy reviews and ratings for analysis purposes."
   ]
  },
  {
   "cell_type": "code",
   "execution_count": 1,
   "id": "2e65e7a4",
   "metadata": {},
   "outputs": [
    {
     "name": "stdout",
     "output_type": "stream",
     "text": [
      "File found!\n",
      "            name name:en           amenity man_made  shop tourism  \\\n",
      "0          Powex    None              fuel     None  None    None   \n",
      "1           None    None            police     None  None    None   \n",
      "2  ASA Formation    None           college     None  None    None   \n",
      "3    Lavage Auto    None          car_wash     None  None    None   \n",
      "4   Orange Money    None  bureau_de_change     None  None    None   \n",
      "\n",
      "  opening_hours  beds rooms addr:full addr:housenumber addr:street addr:city  \\\n",
      "0          None  None  None      None             None        None      None   \n",
      "1          None  None  None      None             None        None      None   \n",
      "2          None  None  None      None             None        None      None   \n",
      "3          None  None  None      None             None        None      None   \n",
      "4          None  None  None      None             None        None      None   \n",
      "\n",
      "  source name:fr       osm_id osm_type                  geometry  \n",
      "0   None    None  11935384514    nodes  POINT (-5.41568 6.73264)  \n",
      "1   None    None   3947545365    nodes  POINT (-6.07418 9.60695)  \n",
      "2   None    None   3936374505    nodes  POINT (-4.05095 5.32235)  \n",
      "3   None    None   3936374511    nodes  POINT (-4.04981 5.32225)  \n",
      "4   None    None   3931437128    nodes   POINT (-4.0582 5.32378)  \n"
     ]
    }
   ],
   "source": [
    "import os\n",
    "import geopandas as gpd\n",
    "\n",
    "# Data path\n",
    "file_path = \"../data/raw/abidjan_pois.geojson\"\n",
    "\n",
    "# Check if file exists\n",
    "if os.path.isfile(file_path):\n",
    "    print(\"File found!\")\n",
    "    # Load raw data\n",
    "    gdf = gpd.read_file(file_path)\n",
    "    # Inspect first few rows\n",
    "    print(gdf.head())\n",
    "else:\n",
    "    print(\"File not found. Check the path:\", file_path)"
   ]
  },
  {
   "cell_type": "code",
   "execution_count": 2,
   "id": "23fe2c13",
   "metadata": {},
   "outputs": [
    {
     "name": "stdout",
     "output_type": "stream",
     "text": [
      "Original rows: 55875\n"
     ]
    }
   ],
   "source": [
    "print(\"Original rows:\", len(gdf))"
   ]
  },
  {
   "cell_type": "code",
   "execution_count": 3,
   "id": "579100f5",
   "metadata": {},
   "outputs": [
    {
     "name": "stdout",
     "output_type": "stream",
     "text": [
      "Columns: Index(['name', 'name:en', 'amenity', 'man_made', 'shop', 'tourism',\n",
      "       'opening_hours', 'beds', 'rooms', 'addr:full', 'addr:housenumber',\n",
      "       'addr:street', 'addr:city', 'source', 'name:fr', 'osm_id', 'osm_type',\n",
      "       'geometry'],\n",
      "      dtype='object')\n"
     ]
    }
   ],
   "source": [
    "print(\"Columns:\", gdf.columns)"
   ]
  },
  {
   "cell_type": "code",
   "execution_count": 4,
   "id": "58c00d09",
   "metadata": {},
   "outputs": [
    {
     "name": "stdout",
     "output_type": "stream",
     "text": [
      "Missing values per column:\n",
      " name                15605\n",
      "name:en             55630\n",
      "amenity             29305\n",
      "man_made            53244\n",
      "shop                29613\n",
      "tourism             54151\n",
      "opening_hours       54428\n",
      "beds                55874\n",
      "rooms               55863\n",
      "addr:full           55844\n",
      "addr:housenumber    55720\n",
      "addr:street         54943\n",
      "addr:city           55049\n",
      "source              45858\n",
      "name:fr             54995\n",
      "osm_id                  0\n",
      "osm_type                0\n",
      "geometry                0\n",
      "dtype: int64\n"
     ]
    }
   ],
   "source": [
    "print(\"Missing values per column:\\n\", gdf.isna().sum())"
   ]
  },
  {
   "cell_type": "code",
   "execution_count": 5,
   "id": "37b2a504",
   "metadata": {},
   "outputs": [],
   "source": [
    "columns_to_keep = ['name', 'amenity', 'shop', 'tourism', 'osm_id', 'osm_type', 'geometry', 'opening_hours']\n",
    "gdf_clean = gdf[columns_to_keep]\n",
    "gdf_clean = gdf_clean.dropna(subset=['amenity'])\n",
    "gdf_clean = gdf_clean.drop_duplicates()\n",
    "gdf_clean = gdf_clean.reset_index(drop=True)"
   ]
  },
  {
   "cell_type": "code",
   "execution_count": 6,
   "id": "857f6df1",
   "metadata": {},
   "outputs": [
    {
     "name": "stdout",
     "output_type": "stream",
     "text": [
      "Number of rows before cleaning: 55875\n",
      "Number of rows after cleaning: 26570\n",
      "Missing values per column:\n",
      " name              5836\n",
      "amenity              0\n",
      "shop             26435\n",
      "tourism          26562\n",
      "osm_id               0\n",
      "osm_type             0\n",
      "geometry             0\n",
      "opening_hours    25552\n",
      "dtype: int64\n",
      "Columns in cleaned data:\n",
      " Index(['name', 'amenity', 'shop', 'tourism', 'osm_id', 'osm_type', 'geometry',\n",
      "       'opening_hours'],\n",
      "      dtype='object')\n"
     ]
    }
   ],
   "source": [
    "print(\"Number of rows before cleaning:\", len(gdf))\n",
    "print(\"Number of rows after cleaning:\", len(gdf_clean))\n",
    "print(\"Missing values per column:\\n\", gdf_clean.isnull().sum())\n",
    "print(\"Columns in cleaned data:\\n\", gdf_clean.columns)"
   ]
  },
  {
   "cell_type": "code",
   "execution_count": 7,
   "id": "554f9242",
   "metadata": {},
   "outputs": [],
   "source": [
    "gdf_clean['name'] = gdf_clean['name'].fillna('Unknown')\n",
    "gdf_clean['shop'] = gdf_clean['shop'].fillna('None')\n",
    "gdf_clean['tourism'] = gdf_clean['tourism'].fillna('None')"
   ]
  },
  {
   "cell_type": "code",
   "execution_count": 8,
   "id": "bbe9f0c5",
   "metadata": {},
   "outputs": [
    {
     "name": "stdout",
     "output_type": "stream",
     "text": [
      "Missing values per column:\n"
     ]
    },
    {
     "name": "stdout",
     "output_type": "stream",
     "text": [
      " name                 0\n",
      "amenity              0\n",
      "shop                 0\n",
      "tourism              0\n",
      "osm_id               0\n",
      "osm_type             0\n",
      "geometry             0\n",
      "opening_hours    25552\n",
      "dtype: int64\n"
     ]
    }
   ],
   "source": [
    "print(\"Missing values per column:\\n\", gdf_clean.isnull().sum())"
   ]
  },
  {
   "cell_type": "code",
   "execution_count": 9,
   "id": "406efe4a",
   "metadata": {},
   "outputs": [
    {
     "name": "stdout",
     "output_type": "stream",
     "text": [
      "            name           amenity  reviews  rating\n",
      "0          Powex              fuel      327     2.1\n",
      "1        Unknown            police       57     1.0\n",
      "2  ASA Formation           college       12     3.7\n",
      "3    Lavage Auto          car_wash      379     2.7\n",
      "4   Orange Money  bureau_de_change      140     4.4\n"
     ]
    }
   ],
   "source": [
    "import random\n",
    "import numpy as np\n",
    "\n",
    "# Set random seed for reproducibility\n",
    "random.seed(42)\n",
    "np.random.seed(42)\n",
    "\n",
    "# Add dummy reviews (number of reviews)\n",
    "gdf_clean['reviews'] = [random.randint(0, 500) for _ in range(len(gdf_clean))]\n",
    "\n",
    "# Add dummy ratings (1-5 stars, 1 decimal)\n",
    "gdf_clean['rating'] = [round(random.uniform(1, 5), 1) for _ in range(len(gdf_clean))]\n",
    "\n",
    "# Check\n",
    "print(gdf_clean[['name', 'amenity', 'reviews', 'rating']].head())"
   ]
  },
  {
   "cell_type": "code",
   "execution_count": 10,
   "id": "ee2a6824",
   "metadata": {},
   "outputs": [
    {
     "name": "stdout",
     "output_type": "stream",
     "text": [
      "['fuel' 'police' 'college' 'car_wash' 'bureau_de_change' 'restaurant'\n",
      " 'community_centre' 'events_venue' 'bank' 'place_of_worship' 'food_court'\n",
      " 'pub' 'post_office' 'school' 'courthouse' 'bus_station' 'ferry_terminal'\n",
      " 'clinic' 'marketplace' 'pharmacy' 'university' 'weighbridge' 'doctors'\n",
      " 'money_transfer' 'bicycle_parking' 'taxi' 'nightclub' 'parking'\n",
      " 'water_point' 'bar' 'toilets' 'cafe' 'prison' 'driving_school' 'mortuary'\n",
      " 'ice_cream' 'waste_basket' 'hospital' 'shelter' 'townhall'\n",
      " 'public_building' 'government' 'nursing_home' 'products' 'atm'\n",
      " 'waste_disposal' 'internet_cafe' 'drinking_water' 'monastery' 'fast_food'\n",
      " 'motorcycle_repair' 'social_facility' 'garage auto' 'social_centre'\n",
      " 'veterinary' 'bench' 'car_rental' 'kindergarten' 'bicycle_repair_station'\n",
      " 'recycling' 'health_post' 'Salon de coiffure DAME' 'vending_machine'\n",
      " 'Magasin de meche' 'telephone' 'parking_space' 'post_box'\n",
      " 'Maria coiffure' 'Garage auto' 'library' 'motocycle_repair' 'stripclub'\n",
      " 'arts_centre' 'baby_hatch' 'health_facility' 'studio' 'boat_rental'\n",
      " 'fire_station' 'grave_yard' 'coworking_space' 'shower' 'charging_station'\n",
      " 'waste_transfer_station' 'medical_imaging' 'cinema' 'reception_desk'\n",
      " 'motorcycle_parking' 'vehicle_inspection' 'biergarten' 'dentist'\n",
      " 'parking_entrance' 'brothel' 'hunting_stand' 'tattoos' 'casino'\n",
      " 'Pressing' 'mobile_money_agent' 'fountain' 'ranger_station' 'childcare'\n",
      " 'first_aid' 'fédération' 'hangar' 'shipping' 'prep_school' 'training'\n",
      " 'animal_breeding' 'car_sharing' 'microfinance_bank'\n",
      " 'sanitary_dump_station' 'theatre' 'music_school' 'public_bookcase'\n",
      " 'clock' 'research_institute' 'watering_place' 'church' 'mobile_phone'\n",
      " 'photo_booth' 'gambling' 'Administration prive' 'Garba' 'hookah_lounge'\n",
      " 'refugee_site' 'Le Katoum' 'cars' 'language_school' 'transportation'\n",
      " \"O'TOPAZ, Pâtisserie\" 'Etablissements sanitaires public' 'compressed_air'\n",
      " 'conference_centre' 'nursery' 'car_pooling' 'bicycle_rental' 'customs']\n"
     ]
    }
   ],
   "source": [
    "print(gdf_clean['amenity'].unique())"
   ]
  },
  {
   "cell_type": "code",
   "execution_count": 11,
   "id": "9b54cf74",
   "metadata": {},
   "outputs": [
    {
     "name": "stdout",
     "output_type": "stream",
     "text": [
      "['None' 'yes' 'no' 'beverages' 'hardware' 'car_repair' 'coffee'\n",
      " 'motorcycle_repair' 'bakery' 'beauty' 'fuel' 'Kiosque café'\n",
      " 'Buvette traditionnelle' 'money_transfer' 'alcohol' 'kiosk' 'tattoo'\n",
      " 'computer' 'dry_cleaning' 'Maquis kaplin' 'pastry' 'funeral_directors'\n",
      " 'religion' 'supermarket' 'ice_cream' 'copyshop' 'chemist' 'car' 'music'\n",
      " 'optician' 'orange money' 'seafood' 'jewelry']\n"
     ]
    }
   ],
   "source": [
    "print(gdf_clean['shop'].unique())"
   ]
  },
  {
   "cell_type": "code",
   "execution_count": 12,
   "id": "c4e4a96a",
   "metadata": {},
   "outputs": [
    {
     "name": "stdout",
     "output_type": "stream",
     "text": [
      "['None' 'attraction' 'hotel']\n"
     ]
    }
   ],
   "source": [
    "print(gdf_clean['tourism'].unique())"
   ]
  },
  {
   "cell_type": "code",
   "execution_count": 13,
   "id": "977298b7",
   "metadata": {},
   "outputs": [],
   "source": [
    "import pandas as pd\n",
    "\n",
    "df = gdf_clean.copy()\n",
    "\n",
    "# Replace 'None' strings with real NA\n",
    "df[\"amenity\"] = df[\"amenity\"].replace(\"None\", pd.NA)\n",
    "df[\"shop\"] = df[\"shop\"].replace(\"None\", pd.NA)\n",
    "df[\"tourism\"] = df[\"tourism\"].replace(\"None\", pd.NA)"
   ]
  },
  {
   "cell_type": "code",
   "execution_count": 14,
   "id": "09e5f24e",
   "metadata": {},
   "outputs": [],
   "source": [
    "# Define which amenities are considered local businesses vs non-business/public\n",
    "business_amenities = [\n",
    "    'fuel', 'car_wash', 'bureau_de_change', 'restaurant', 'bank', 'food_court',\n",
    "    'pub', 'clinic', 'pharmacy', 'doctors', 'money_transfer', 'nightclub',\n",
    "    'bar', 'marketplace', 'driving_school', 'ice_cream', 'atm', 'internet_cafe',\n",
    "    'cafe', 'fast_food', 'motorcycle_repair', 'garage auto', 'veterinary',\n",
    "    'car_rental', 'bicycle_repair_station', 'stripclub', 'studio', 'boat_rental',\n",
    "    'coworking_space', 'cinema', 'dentist', 'brothel', 'casino',\n",
    "    'mobile_money_agent', 'shipping', 'car_sharing', 'microfinance_bank',\n",
    "    'theatre', 'music_school', 'conference_centre', \"O'TOPAZ, Pâtisserie\",\n",
    "    'charging_station', 'cars', 'tattoos', 'Pressing', 'animal_breeding', 'taxi', 'parking',\n",
    "    'parking_space', 'motorcycle_parking'\n",
    "]\n",
    "\n",
    "non_business_amenities = [\n",
    "    'college', 'school', 'university', 'kindergarten', 'prep_school', 'language_school',\n",
    "    'community_centre', 'social_facility', 'social_centre', 'public_building', 'government',\n",
    "    'townhall', 'reception_desk', 'research_institute', 'Etablissements sanitaires public',\n",
    "    'place_of_worship', 'monastery', 'church', 'police', 'fire_station', 'ranger_station',\n",
    "    'prison', 'mortuary', 'nursing_home', 'health_post', 'health_facility', 'medical_imaging',\n",
    "    'water_point', 'drinking_water', 'waste_basket', 'toilets', 'recycling',\n",
    "    'waste_transfer_station', 'sanitary_dump_station', 'watering_place', 'arts_centre', 'library', 'baby_hatch',\n",
    "    'fountain', 'hookah_lounge', 'shelter', 'grave_yard', 'hunting_stand',\n",
    "    'first_aid', 'fédération', 'transportation', 'clock', 'Administration prive', 'Garba'\n",
    "]\n",
    "\n"
   ]
  },
  {
   "cell_type": "code",
   "execution_count": 15,
   "id": "4ee01ec4",
   "metadata": {},
   "outputs": [],
   "source": [
    "# Clean shops (drop meaningless \"yes\"/\"no\")\n",
    "df[\"shop\"] = df[\"shop\"].replace({\"yes\": pd.NA, \"no\": pd.NA})\n",
    "\n",
    "# Tourism options\n",
    "include_attraction = False  # change to True if you want to keep attractions\n",
    "if include_attraction:\n",
    "    business_tourism = [\"hotel\", \"attraction\"]\n",
    "else:\n",
    "    business_tourism = [\"hotel\"]\n",
    "\n",
    "# Create unified \"business_type\" column\n",
    "def get_business_type(row):\n",
    "    if pd.notna(row[\"shop\"]):\n",
    "        return row[\"shop\"]\n",
    "    elif pd.notna(row[\"amenity\"]) and row[\"amenity\"] in business_amenities:\n",
    "        return row[\"amenity\"]\n",
    "    elif pd.notna(row[\"tourism\"]) and row[\"tourism\"] in business_tourism:\n",
    "        return row[\"tourism\"]\n",
    "    else:\n",
    "        return None\n",
    "\n",
    "df[\"business_type\"] = df.apply(get_business_type, axis=1)\n",
    "\n",
    "# Drop rows without a business type\n",
    "df = df.dropna(subset=[\"business_type\"])"
   ]
  },
  {
   "cell_type": "code",
   "execution_count": 16,
   "id": "e26660bd",
   "metadata": {},
   "outputs": [
    {
     "name": "stdout",
     "output_type": "stream",
     "text": [
      "Remaining rows after filtering: 17568\n",
      "business_type\n",
      "restaurant        4219\n",
      "pub               3441\n",
      "money_transfer    1930\n",
      "cafe              1646\n",
      "pharmacy           967\n",
      "bank               756\n",
      "doctors            694\n",
      "fuel               694\n",
      "bar                581\n",
      "car_wash           471\n",
      "internet_cafe      407\n",
      "marketplace        331\n",
      "clinic             297\n",
      "fast_food          210\n",
      "driving_school     113\n",
      "nightclub          108\n",
      "food_court          98\n",
      "ice_cream           86\n",
      "parking             72\n",
      "atm                 49\n",
      "Name: count, dtype: int64\n"
     ]
    }
   ],
   "source": [
    "print(\"Remaining rows after filtering:\", len(df))\n",
    "print(df[\"business_type\"].value_counts().head(20))"
   ]
  },
  {
   "cell_type": "code",
   "execution_count": 17,
   "id": "d1a9aba2",
   "metadata": {},
   "outputs": [
    {
     "name": "stdout",
     "output_type": "stream",
     "text": [
      "business_type\n",
      "bakery                    9\n",
      "pastry                    9\n",
      "motorcycle_parking        7\n",
      "casino                    7\n",
      "brothel                   5\n",
      "beverages                 5\n",
      "animal_breeding           5\n",
      "parking_space             4\n",
      "car_repair                4\n",
      "beauty                    4\n",
      "chemist                   4\n",
      "charging_station          3\n",
      "copyshop                  3\n",
      "optician                  3\n",
      "stripclub                 2\n",
      "alcohol                   2\n",
      "boat_rental               2\n",
      "microfinance_bank         2\n",
      "religion                  2\n",
      "computer                  2\n",
      "music_school              2\n",
      "Kiosque café              2\n",
      "Buvette traditionnelle    1\n",
      "coffee                    1\n",
      "hardware                  1\n",
      "coworking_space           1\n",
      "shipping                  1\n",
      "dry_cleaning              1\n",
      "Maquis kaplin             1\n",
      "tattoo                    1\n",
      "funeral_directors         1\n",
      "theatre                   1\n",
      "car_sharing               1\n",
      "supermarket               1\n",
      "car                       1\n",
      "music                     1\n",
      "orange money              1\n",
      "O'TOPAZ, Pâtisserie       1\n",
      "seafood                   1\n",
      "jewelry                   1\n",
      "conference_centre         1\n",
      "Name: count, dtype: int64\n"
     ]
    }
   ],
   "source": [
    "# Count each business_type\n",
    "counts = df['business_type'].value_counts()\n",
    "\n",
    "# Show only those with less than 10 occurrences\n",
    "rare_types = counts[counts < 10]\n",
    "print(rare_types)\n"
   ]
  },
  {
   "cell_type": "code",
   "execution_count": 18,
   "id": "01d62bf9",
   "metadata": {},
   "outputs": [
    {
     "name": "stdout",
     "output_type": "stream",
     "text": [
      "business_type\n",
      "restaurant                4240\n",
      "pub                       3441\n",
      "money_transfer            1930\n",
      "cafe                      1650\n",
      "pharmacy                   974\n",
      "bank                       758\n",
      "fuel                       694\n",
      "doctors                    694\n",
      "bar                        588\n",
      "car_wash                   471\n",
      "internet_cafe              412\n",
      "marketplace                334\n",
      "clinic                     301\n",
      "fast_food                  210\n",
      "driving_school             113\n",
      "nightclub                  108\n",
      "food_court                  98\n",
      "ice_cream                   86\n",
      "parking                     83\n",
      "atm                         49\n",
      "bicycle_repair_station      46\n",
      "dentist                     41\n",
      "car_rental                  39\n",
      "bureau_de_change            34\n",
      "kiosk                       30\n",
      "veterinary                  25\n",
      "mobile_money_agent          23\n",
      "studio                      20\n",
      "taxi                        17\n",
      "motorcycle_repair           14\n",
      "cinema                      13\n",
      "car_repair                   4\n",
      "Name: count, dtype: int64\n"
     ]
    }
   ],
   "source": [
    "# Mapping for fixing / merging business types\n",
    "mapping = {\n",
    "    # Merge into restaurant\n",
    "    'bakery': 'restaurant',\n",
    "    'pastry': 'restaurant',\n",
    "    'Maquis kaplin': 'restaurant',\n",
    "    \"O'TOPAZ, Pâtisserie\": 'restaurant',\n",
    "    'seafood': 'restaurant',\n",
    "\n",
    "    # Merge into cafe\n",
    "    'coffee': 'cafe',\n",
    "    'Kiosque café': 'cafe',\n",
    "    'Buvette traditionnelle': 'cafe',\n",
    "\n",
    "    # Merge into bar/pub\n",
    "    'alcohol': 'bar',\n",
    "    'beverages': 'bar',\n",
    "\n",
    "    # Merge into pharmacy\n",
    "    'chemist': 'pharmacy',\n",
    "    'optician': 'pharmacy',\n",
    "\n",
    "    # Merge into internet cafe\n",
    "    'copyshop': 'internet_cafe',\n",
    "    'computer': 'internet_cafe',\n",
    "\n",
    "    # Merge into bank\n",
    "    'microfinance_bank': 'bank',\n",
    "\n",
    "    # Merge into mobile money agent\n",
    "    'orange money': 'mobile_money_agent',\n",
    "\n",
    "    # Merge into marketplace\n",
    "    'hardware': 'marketplace',\n",
    "    'jewelry': 'marketplace',\n",
    "    'supermarket': 'marketplace',\n",
    "\n",
    "    # Merge into studio\n",
    "    'tattoo': 'studio',\n",
    "    'music_school': 'studio',\n",
    "\n",
    "    # Merge into cinema\n",
    "    'theatre': 'cinema',\n",
    "\n",
    "    # Merge into car_rental\n",
    "    'car_sharing': 'car_rental',\n",
    "\n",
    "    # Merge into parking\n",
    "    'motorcycle_parking': 'parking',\n",
    "    'parking_space': 'parking',\n",
    "\n",
    "    # Merge into clinic\n",
    "    'beauty': 'clinic',\n",
    "\n",
    "    # Merge into veterinary\n",
    "    'animal_breeding': 'veterinary'\n",
    "\n",
    "}\n",
    "\n",
    "to_drop = [\n",
    "    'casino',\n",
    "    'brothel',\n",
    "    'stripclub',\n",
    "    'religion',\n",
    "    'car',\n",
    "    'music',\n",
    "    'shipping',        \n",
    "    'dry_cleaning',    \n",
    "    'funeral_directors',\n",
    "    'coworking_space',\n",
    "    'conference_centre',\n",
    "    'charging_station',\n",
    "    'boat_rental',\n",
    "]\n",
    "\n",
    "# Apply mapping + dropping\n",
    "df['business_type'] = df['business_type'].replace(mapping)\n",
    "df = df[~df['business_type'].isin(to_drop)]\n",
    "\n",
    "# Check result counts again\n",
    "print(df['business_type'].value_counts())\n"
   ]
  },
  {
   "cell_type": "code",
   "execution_count": 19,
   "id": "6c9a7539",
   "metadata": {},
   "outputs": [
    {
     "name": "stdout",
     "output_type": "stream",
     "text": [
      "Remaining rows after filtering: 17540\n"
     ]
    }
   ],
   "source": [
    "print(\"Remaining rows after filtering:\", len(df))"
   ]
  },
  {
   "cell_type": "code",
   "execution_count": 20,
   "id": "faa0e028",
   "metadata": {},
   "outputs": [
    {
     "name": "stdout",
     "output_type": "stream",
     "text": [
      "Number of bad rows: 17526\n",
      "[None 'Mo-Fr 08:30-16:00; Sa 09:00-14:00; PH off'\n",
      " 'Mo-Fr 07:30-13:00, 14:00-16:30' 'Mo-Su 09:00-23:00' 'Mo-Su 09:00-22:00'\n",
      " 'Tu-Su 08:00-22:00' '24/7' 'Mo-Su 08:00-15:00' 'Mo-Sa 08:00-17:00'\n",
      " 'Mo-Fr 08:00-12:00' 'Mo-Fr 11:00-15:00,18:00-02:00; Sa-Su 18:00-02:00'\n",
      " 'Mo-Fr 09:00-15:00; Sa 09:00-12:00' 'Mo-Fr 09:00-17:00'\n",
      " 'Mo-Fr 08:00-18:00' 'PH,Mo-Su 11:00-23:00+' '0/7'\n",
      " 'Mo-Su 07:00-23:30; Sa 09:00-17:00; PH unknown'\n",
      " 'Mo 07:00-19:00; Tu-Sa 07:30-00:00; Su 07:00-17:00' 'Mo-Fr 07:00-18:00'\n",
      " 'Mo-Su 09:00-00:00' 'Mo-Su 11:30-15:00; Mo-Su 17:45-23:00' 'Mo-Su'\n",
      " 'Mo-Fr 12:00-00:00' 'Mo-Su 18:00-04:00' 'Mo-Su 11:00-24:00'\n",
      " 'Mo-Fr 00:00-24:00' 'Mo-Su 12:00-14:30, 18:00-22:30'\n",
      " 'Mo-Fr 08:00-12:00, 14:00-18:00' 'Mo-Fr 08:00-15:00; Sa 09:00-12:00'\n",
      " 'Tu-Su; Su PM off; Mo off' 'Mo-Sa 07:30-19:00' 'Mo-Fr 07:30-16:00'\n",
      " 'Mo-Sa 09:00-02:00' 'Mo-Su 08:00-20:00' 'Mo-Su 07:00-23:00'\n",
      " 'Mo-Fr 08:30-15:00' 'Mo-Fr 09:00-14:00'\n",
      " 'Mo, We 14:00-18:00; Tu, Th-Fr 09:00-18:00; Sa 09:00-13:00'\n",
      " 'Mo-Su 06:30-22:30' 'Mo-Fr 08:00-17:00; Sa 08:00-15:00'\n",
      " \"9heures a l'aube\" 'Mo-Su 07:30-21:30' 'Mo-Sa 00:00-24:00'\n",
      " 'Tu-Sa 11:50-14:30' 'Mo-Sa 07:00-19:30; Su 08:00-12:00'\n",
      " 'Mo-Su 10:00-22:00' 'Mo-Su 10:00-01:00' 'Mo-Fr 07:00-16:30'\n",
      " 'Mo-Sa 07:30-20:00' 'Mo-Sa 06:00-02:00' 'Mo-Fr 08:00-15:00'\n",
      " 'Mo-Sa 08:00-19:00' 'Mo-Su 07:00-18:00' 'Mo-Sa 07:00-12:00, 14:00-19:00'\n",
      " 'Mo-Su 08:00-21:00' 'Mo-Fr 08:00-15:00; Sa 08:00-12:00'\n",
      " 'Mo-Su 08:00-18:00; Apr 10-15 off; Jun 08:00-14:00; Aug off; Dec 25 off'\n",
      " 'Mo-Fr 08:00-12:00, 13:30-16:00' 'Mo-Su 06:30-20:30' 'Mo-Su 18:00-03:00'\n",
      " 'Mo-Su 06:00-00:00' 'Mo-Su 07:00-03:00' 'Mo-Su 10:00-00:00'\n",
      " 'We-Su 12:00-22:00' 'Mo-Fr 06:30-22:00;Sa,Su,PH 06:30-23:00'\n",
      " 'Mo-Su 11:00-00:00' 'We' 'Mo-Fr 06:00-15:00; Sa 07:00-12:00'\n",
      " 'Mo-Th 10:00-22:00, Fr-Sa 10:00-23:00, Su 10:00-22:00'\n",
      " 'Mo-Su 08:00-22:30' 'Mo-Su 09:00-20:00' 'Mo-Su 07:00-22:00'\n",
      " 'Mo, We-Su 19:00-00:00' 'Mo-Su 22:00-07:00' 'Mo-Sa 17:50-23:00'\n",
      " 'Mo-Su 08:00-12:00' 'Fr' '08:18' 'Tu-Su 09:00-22:00' 'Mo-Su 08:00-00:00'\n",
      " 'Mo-Su 19:00-23:00' 'Mo-Su 11:30-00:00' 'Mo-Sa 07:00-22:00'\n",
      " 'Mo-Fr 08:00-15:00; Sa 08:00-11:00'\n",
      " 'Mo-Th 08:00-15:30; Fr 08:00-11:30; Sa 09:00-12:00' 'Mo-Fr 08:00-16:00'\n",
      " 'Mo-Fr 09:00-16:00' 'Mo-Su 17:00-01:00' '12:00-15:00,18:00-00:00'\n",
      " 'Mo-Sa 10:00-22:00' 'Mo-Fr 09:00-18:00' 'tous les jours 10h-15h 19h-23h'\n",
      " 'Tu-Su 12:30-22:00' 'Mo-Fr 08:00-15:30'\n",
      " 'Mo-Sa 00:00-24:00; Su 09:00-18:00' 'Tu-Su 22:00-06:00; Mo 00:00-24:00'\n",
      " 'Mo-Fr 08:00-15:30;Sa 09:00-12:00' 'Mo-Fr 07:30-17:00'\n",
      " 'Mo-Su 08:00-22:00' 'Mo-Sa 07:30-18:00' 'Mo-Fr 06:00-12:00,14:30-20:30'\n",
      " 'Mo-Su 15:30-06:00' 'Mo-Fr 07:00-16:30; Sa 09:00-13:00'\n",
      " 'Mo-Fr 08:30-20:00' 'Mo-Su 09:00-21:00' 'Mo-Fr 08:00-17:00'\n",
      " 'Mo-Su 20:00-06:00' 'Tu-Su 22:00-05:00' 'Tu-Su 11:00-15:00'\n",
      " 'Mo-Su 10:30-01:00' 'Mo-Sa 11:00-16:00'\n",
      " 'Mo-Su 11:00-23:00, PH 11:00-23:00' 'Mo-Su 18:00-05:00'\n",
      " 'Mo-Su 12:00-16:00,18:00-22:00; PH open' 'Mo-Sa' 'Mo-Sa 07:30-20:30'\n",
      " 'Tu-Su 09:00-17:00' 'Mo-Sa 07:00-20:00' 'Mo-Su 07:00-19:00'\n",
      " 'Mo-Su 09:00-15:00' 'Mo-Fr 07:30-14:30; Sa 08:00-12:00'\n",
      " 'Mo-Su 07:00-00:00' 'Mo-Su 11:30-21:30' 'Mo-Fr 08:00-20:00'\n",
      " 'Sa, Su 00:00-00:00' 'Mo-Fr 08:30-20:00; Sa,Su 08:00-15:00; PH off'\n",
      " 'Mo-Sa 07:30-21:00' 'Mo-Su 09:00-18:00' 'Mo-Su 06:00-21:00'\n",
      " 'Mo-Sa 07:00-21:00' 'Mo-Sa 07:00-18:00' 'Mo-Su 11:30-23:00'\n",
      " 'Mo-Su 08:00-12:00, 14:00-18:00' 'Mo-Su 18:00-06:00' 'Mo-Su 07:30-20:10'\n",
      " 'Mo-Su 06:30-14:30,16:30-22:00' 'Mo-Fr 07:30-20:00'\n",
      " 'Mo-Fr 07:45-12:30,13:30-15:30; PH off' 'Mo-Fr 07:30-12:00, 14:00-17:30'\n",
      " 'Mo-Fr 07:30-12:30, 13:30-16:30' 'Tu-Su 08:00-15:00;Sa 08:00-12:00'\n",
      " 'Mo-Fr 07:00-17:00' 'Mo-Sa 07:30-12:00,14:00-17:30; Sa 08:00-12:00'\n",
      " 'Mo-Fr 07:30-16:30' 'Mo-Fr 08:00-12:30,14:00-18:00; Sa 09:00-12:00'\n",
      " 'Mo-Fr 07:30-13:00' 'Mo-Sa 07:30-17:00' 'Mo-Fr 08:30-16:30'\n",
      " 'Mo-Fr 08:00-19:00; Sa 08:00-12:00' 'Mo-Fr 08:30-12:00, 13:00-17:00'\n",
      " 'Mo 13:45-15:45; Tu-Fr 07:45-12:30, 13:30-15:30; Sa 07:45-12:00'\n",
      " 'Mo-Su 09:00-17:00' 'Mo-Sa 07:30-18:30' 'Mo-Sa 09:00-18:00'\n",
      " 'Mo-Fr 07:30-12:30,13:30-16:30; Sa 07:00-12:00' 'Mo-Su 08:00-18:00'\n",
      " 'Mo-Sa 08:00-18:30' 'Mo-Fr 08:00-16:30' 'Mo-Sa 07:00-16:30'\n",
      " 'Mo-Fr 09:00-19:30;Sa 09:00-20:00;Su,PH 10:30-19:00'\n",
      " 'Mo-Fr 08:00-18:00; Sa 09:00-16:00' 'Mo-Fr 07:30-12:30, 14:00-18:00'\n",
      " 'Mo-Su 07:00-22:30' 'Mo-Su 08:30-14:00, 14:30-20:30' 'Mo-Sa 00:00-00:00'\n",
      " 'Mo-Su 08:00-23:00' 'Mo-Sa 07:30-12:30,13:30-16:30' 'Mo-Su 07:30-22:30'\n",
      " 'Mo-Su 07:30-12:00,14:00-23:00' 'Mo-Su 07:00-12:00, 14:00-21:00'\n",
      " 'Mo-Su 06:35-19:30' 'Mo-Fr 07:30-12:00, 12:00-14:00'\n",
      " 'Mo-Su 07:30-12:00, 14:00-21:00' 'Mo-Su 07:30-12:00, 14:00-23:00'\n",
      " 'Mo-Su 07:30-20:00' 'Mo-Su 08:30-18:30' 'Mo-Su 07:30-12:00, 14:00-22:00'\n",
      " 'Mo-Fr 07:30-14:00' 'Mo-Sa 07:30-12:00,12:00-17:30'\n",
      " 'Mo-Sa 08:00-12:00,12:00-18:00' 'Mo-Su 08:00-12:00,13:00-19:30'\n",
      " 'Mo-Sa 07:30-12:00,14:30-19:30' 'Mo-Sa 08:00-12:00,14:30-17:30'\n",
      " 'Mo-Su 08:00-12:00,12:00-21:00' 'We 08:00-12:00; Su 08:00-12:00'\n",
      " 'We 09:00-12:00,14:00-16:00; Sa 09:00-12:00,14:00-16:00'\n",
      " 'Mo-Sa 00:00-23:59' 'Mo-Su 07:30-21:00' 'Mo-Su 07:30-12:00,14:00-16:00'\n",
      " 'Mo-Sa 07:30-17:30' 'Mo-Fr 07:45-15:30'\n",
      " 'Mo-Fr 08:00-16:00; Sa 09:00-12:00'\n",
      " 'Mo 12:30-15:00; Tu-Fr 08:00-15:00; Sa 09:00-12:00'\n",
      " 'Mo-Fr 08:00-15:30; Sa 09:00-12:00' 'Mo-Fr 07:40-12:30, 13:30-15:30'\n",
      " 'Mo-Su 07:00-12:30,13:00-22:00' 'Mo-Su 08:00-12:30,15:00-18:00'\n",
      " 'Mo-Sa 07:00-12:00,14:00-20:00' 'Tu 14:00-18:00; Th-Sa 14:00-18:00'\n",
      " 'Mo-Sa 08:45-18:00' 'Su 09:00-00:00; Mo-Sa 09:00-00:00'\n",
      " 'Mo-Sa 08:30-22:30' 'Mo-Su 06:00-17:45' 'Mo-Su 05:00-23:59'\n",
      " 'Mo-Fr 08:30-16:40; Sa 09:00-16:45' 'Mo-Su 08:00-20:30'\n",
      " 'Mo-Sa 07:30-16:30' 'Mo-Su 07:30-16:30'\n",
      " 'Mo 12:30-15:30; Tu-Fr 08:00-15:30; Sa 09:00-12:30'\n",
      " 'Mo-Fr 08:00-17:00; Sa 09:00-12:00' 'Mo-Sa 08:00-18:00'\n",
      " 'Mo-Sa 10:00-17:00' 'Mo-Su 07:00-20:00' 'Mo-Su 08:00-12:00,14:00-18:00'\n",
      " 'Mo-Th 09:00-22:00, Fr-Sa 09:00-23:45, Su 10:00-22:00'\n",
      " 'Mo-Fr 07:45-12:30,13:30-15:30; Sa 09:00-13:00; PH off'\n",
      " '08:30-12:30,15:30-20:00' 'Mo-Su 07:30-19:00' 'Mo-Su 00:00-00:00'\n",
      " 'Mo-Tu 12:00-15:00; Mo-Sa 18:30-22:30' 'Mo-Su 07:30-12:00,14:00-17:00'\n",
      " 'Mo-Fr 12:00-14:30' 'Mo-Fr 06:00-18:00' 'Sa-Su 10:00-18:00'\n",
      " 'Mo-Su 10:00-03:00' 'Mo-Su 12:00-00:00' 'Mo-Su 22:00-05:00'\n",
      " 'Mo-Su 11:00-15:00,18:30-23:00' 'Mo-Fr 08:00-12:00, 14:00-16:00'\n",
      " 'Mo-Fr 07:30-18:00' 'Mo-Fr 08:00-12:00, 14:00-17:00' 'Mo-Sa 10:00-23:00'\n",
      " 'Mo-Su 06:30-18:00' 'Mo-Sa 00:00-24:00; Su 08:30-17:00'\n",
      " 'Su-Th 00:00-24:00' 'Mo-Sa 18:00-05:00' 'Mo-Sa 08:00-20:00'\n",
      " 'Mo-Su 06:30-22:00']\n"
     ]
    }
   ],
   "source": [
    "# Find rows that don't match the pattern \"HH:MM-HH:MM\"\n",
    "import re\n",
    "\n",
    "pattern = re.compile(r\"^\\d{2}:\\d{2}-\\d{2}:\\d{2}$\")\n",
    "\n",
    "bad_rows = df[~df['opening_hours'].astype(str).str.match(pattern, na=False)]\n",
    "\n",
    "print(\"Number of bad rows:\", len(bad_rows))\n",
    "print(bad_rows['opening_hours'].unique())"
   ]
  },
  {
   "cell_type": "code",
   "execution_count": 21,
   "id": "d9357f19",
   "metadata": {},
   "outputs": [],
   "source": [
    "import re\n",
    "import numpy as np\n",
    "\n",
    "def simplify_opening_hours(value):\n",
    "    if pd.isna(value):\n",
    "        return np.nan\n",
    "\n",
    "    value = str(value).strip()\n",
    "\n",
    "    # 24/7 patterns\n",
    "    if re.search(r'24/?7|00:00-24:00|00:00-00:00', value):\n",
    "        return \"00:00-23:59\"\n",
    "\n",
    "    # Closed or invalid\n",
    "    if re.search(r'closed|off|unknown|n/a', value, re.IGNORECASE):\n",
    "        return np.nan\n",
    "\n",
    "    # Extract all HH:MM-HH:MM patterns\n",
    "    matches = re.findall(r'(\\d{1,2}:\\d{2})-(\\d{1,2}:\\d{2})', value)\n",
    "    if matches:\n",
    "        opens = [m[0] for m in matches]\n",
    "        closes = [m[1] for m in matches]\n",
    "\n",
    "        # Normalize hours into sortable format\n",
    "        opens_sorted = sorted(opens)\n",
    "        closes_sorted = sorted(closes)\n",
    "\n",
    "        # Earliest open, latest close\n",
    "        return f\"{opens_sorted[0]}-{closes_sorted[-1]}\"\n",
    "\n",
    "    # Single time like \"08:18\"\n",
    "    single = re.match(r'^\\d{1,2}:\\d{2}$', value)\n",
    "    if single:\n",
    "        t = single.group(0)\n",
    "        return f\"{t}-{t}\"\n",
    "\n",
    "    # Couldn’t parse → NaN\n",
    "    return np.nan\n",
    "\n",
    "# Apply simplification\n",
    "df['opening_hours'] = df['opening_hours'].apply(simplify_opening_hours)\n"
   ]
  },
  {
   "cell_type": "code",
   "execution_count": 22,
   "id": "07443360",
   "metadata": {},
   "outputs": [],
   "source": [
    "import random\n",
    "import pandas as pd\n",
    "\n",
    "# Set seed for reproducibility\n",
    "random.seed(42)\n",
    "\n",
    "# Define opening hours ranges\n",
    "opening_hours_range = {\n",
    "    \"restaurant\": [(10, 12), (21, 23)],\n",
    "    \"pub\": [(16, 19), (0, 2)],\n",
    "    \"money_transfer\": [(8, 10), (16, 18)],\n",
    "    \"cafe\": [(6, 8), (20, 23)],\n",
    "    \"pharmacy\": [(8, 10), (20, 23)],\n",
    "    \"bank\": [(8, 9), (14, 16)],\n",
    "    \"fuel\": [(0, 0), (23, 23)],  # 24/7\n",
    "    \"doctors\": [(9, 11), (16, 19)],\n",
    "    \"bar\": [(17, 19), (1, 3)],\n",
    "    \"car_wash\": [(8, 9), (17, 19)],\n",
    "    \"internet_cafe\": [(9, 11), (22, 0)],\n",
    "    \"marketplace\": [(7, 9), (16, 18)],\n",
    "    \"clinic\": [(9, 11), (17, 19)],\n",
    "    \"fast_food\": [(11, 13), (22, 0)],\n",
    "    \"driving_school\": [(9, 11), (15, 17)],\n",
    "    \"nightclub\": [(21, 23), (3, 6)],\n",
    "    \"food_court\": [(10, 12), (22, 0)],\n",
    "    \"ice_cream\": [(11, 13), (20, 22)],\n",
    "    \"parking\": [(0, 0), (23, 23)],  # 24/7\n",
    "    \"atm\": [(0, 0), (23, 23)],      # 24/7\n",
    "    \"bicycle_repair_station\": [(9, 11), (17, 19)],\n",
    "    \"dentist\": [(9, 11), (17, 19)],\n",
    "    \"car_rental\": [(8, 10), (18, 20)],\n",
    "    \"bureau_de_change\": [(9, 11), (17, 19)],\n",
    "    \"kiosk\": [(7, 9), (21, 23)],\n",
    "    \"veterinary\": [(9, 11), (17, 19)],\n",
    "    \"mobile_money_agent\": [(8, 10), (17, 19)],\n",
    "    \"studio\": [(10, 12), (20, 22)],\n",
    "    \"taxi\": [(0, 0), (23, 23)],      # 24/7\n",
    "    \"motorcycle_repair\": [(8, 10), (17, 19)],\n",
    "    \"cinema\": [(14, 16), (23, 1)],\n",
    "    \"car_repair\": [(8, 10), (18, 20)],\n",
    "}\n",
    "\n",
    "def random_opening_hours(btype):\n",
    "    if btype not in opening_hours_range:\n",
    "        return \"09:00-18:00\"\n",
    "\n",
    "    (open_start, open_end), (close_start, close_end) = opening_hours_range[btype]\n",
    "\n",
    "    # --- Handle 24/7 ---\n",
    "    if open_start == 0 and open_end == 0 and close_start == 23 and close_end == 23:\n",
    "        return \"00:00-23:59\"\n",
    "\n",
    "    # --- Pick open hour safely ---\n",
    "    if open_start > open_end:  # wraparound (e.g. 21–2)\n",
    "        open_hour = random.choice(list(range(open_start, 24)) + list(range(0, open_end+1)))\n",
    "    else:\n",
    "        open_hour = random.randint(open_start, open_end)\n",
    "\n",
    "    # --- Pick close hour safely ---\n",
    "    if close_start > close_end:  # wraparound close range\n",
    "        close_hour = random.choice(list(range(close_start, 24)) + list(range(0, close_end+1)))\n",
    "    else:\n",
    "        close_hour = random.randint(close_start, close_end)\n",
    "\n",
    "    # --- Ensure closing is not before opening (same day) ---\n",
    "    if (close_hour <= open_hour) and not (close_start > close_end):\n",
    "        close_hour = open_hour + 1\n",
    "        if close_hour >= 24:\n",
    "            close_hour = 23\n",
    "\n",
    "    return f\"{open_hour:02d}:00-{close_hour:02d}:00\"\n",
    "\n",
    "# Example usage\n",
    "df['opening_hours'] = df['opening_hours'].replace('None', pd.NA)\n",
    "df['opening_hours'] = df.apply(\n",
    "    lambda row: row['opening_hours'] if pd.notna(row['opening_hours']) else random_opening_hours(row['business_type']),\n",
    "    axis=1\n",
    ")"
   ]
  },
  {
   "cell_type": "code",
   "execution_count": 23,
   "id": "27c2801d",
   "metadata": {},
   "outputs": [
    {
     "name": "stdout",
     "output_type": "stream",
     "text": [
      "           name           amenity  shop tourism       osm_id osm_type  \\\n",
      "0         Powex              fuel  <NA>    <NA>  11935384514    nodes   \n",
      "3   Lavage Auto          car_wash  <NA>    <NA>   3936374511    nodes   \n",
      "4  Orange Money  bureau_de_change  <NA>    <NA>   3931437128    nodes   \n",
      "5   Lavage Auto          car_wash  <NA>    <NA>   3931437125    nodes   \n",
      "6    Restaurant        restaurant  <NA>    <NA>   3930671817    nodes   \n",
      "\n",
      "                   geometry opening_hours  reviews  rating     business_type  \n",
      "0  POINT (-5.41568 6.73264)   00:00-23:59      327     2.1              fuel  \n",
      "3  POINT (-4.04981 5.32225)   08:00-17:00      379     2.7          car_wash  \n",
      "4   POINT (-4.0582 5.32378)   11:00-18:00      140     4.4  bureau_de_change  \n",
      "5    POINT (-4.057 5.32371)   08:00-17:00      125     4.4          car_wash  \n",
      "6  POINT (-4.05483 5.32221)   10:00-23:00      114     2.8        restaurant  \n"
     ]
    }
   ],
   "source": [
    "print(df.head())"
   ]
  },
  {
   "cell_type": "code",
   "execution_count": 24,
   "id": "104beec7",
   "metadata": {},
   "outputs": [],
   "source": [
    "# Make sure opening_hours is string (NaN -> empty string)\n",
    "df['opening_hours'] = df['opening_hours'].fillna(\"\").astype(str)\n",
    "\n",
    "# Split safely\n",
    "df[['open_str', 'close_str']] = df['opening_hours'].str.split('-', n=1, expand=True)\n",
    "\n",
    "# Convert only valid times\n",
    "df['open_time'] = pd.to_datetime(df['open_str'], format=\"%H:%M\", errors='coerce').dt.time\n",
    "df['close_time'] = pd.to_datetime(df['close_str'], format=\"%H:%M\", errors='coerce').dt.time\n",
    "\n",
    "# Drop helpers\n",
    "df = df.drop(columns=['open_str', 'close_str'])\n"
   ]
  },
  {
   "cell_type": "code",
   "execution_count": 25,
   "id": "931da447",
   "metadata": {},
   "outputs": [
    {
     "name": "stdout",
     "output_type": "stream",
     "text": [
      "           name           amenity  shop tourism       osm_id osm_type  \\\n",
      "0         Powex              fuel  <NA>    <NA>  11935384514    nodes   \n",
      "3   Lavage Auto          car_wash  <NA>    <NA>   3936374511    nodes   \n",
      "4  Orange Money  bureau_de_change  <NA>    <NA>   3931437128    nodes   \n",
      "5   Lavage Auto          car_wash  <NA>    <NA>   3931437125    nodes   \n",
      "6    Restaurant        restaurant  <NA>    <NA>   3930671817    nodes   \n",
      "\n",
      "                   geometry opening_hours  reviews  rating     business_type  \\\n",
      "0  POINT (-5.41568 6.73264)   00:00-23:59      327     2.1              fuel   \n",
      "3  POINT (-4.04981 5.32225)   08:00-17:00      379     2.7          car_wash   \n",
      "4   POINT (-4.0582 5.32378)   11:00-18:00      140     4.4  bureau_de_change   \n",
      "5    POINT (-4.057 5.32371)   08:00-17:00      125     4.4          car_wash   \n",
      "6  POINT (-4.05483 5.32221)   10:00-23:00      114     2.8        restaurant   \n",
      "\n",
      "  open_time close_time  \n",
      "0  00:00:00   23:59:00  \n",
      "3  08:00:00   17:00:00  \n",
      "4  11:00:00   18:00:00  \n",
      "5  08:00:00   17:00:00  \n",
      "6  10:00:00   23:00:00  \n"
     ]
    }
   ],
   "source": [
    "print(df.head())"
   ]
  },
  {
   "cell_type": "code",
   "execution_count": 26,
   "id": "784935f1",
   "metadata": {},
   "outputs": [
    {
     "name": "stdout",
     "output_type": "stream",
     "text": [
      "Number of bad rows: 0\n",
      "[]\n"
     ]
    }
   ],
   "source": [
    "# Find rows that don't match the pattern \"HH:MM-HH:MM\"\n",
    "import re\n",
    "\n",
    "pattern = re.compile(r\"^\\d{2}:\\d{2}-\\d{2}:\\d{2}$\")\n",
    "\n",
    "bad_rows = df[~df['opening_hours'].astype(str).str.match(pattern, na=False)]\n",
    "\n",
    "print(\"Number of bad rows:\", len(bad_rows))\n",
    "print(bad_rows['opening_hours'].unique())"
   ]
  },
  {
   "cell_type": "code",
   "execution_count": 27,
   "id": "12ddd3b9",
   "metadata": {},
   "outputs": [],
   "source": [
    "import pandas as pd\n",
    "import datetime\n",
    "\n",
    "# Replace 24:00 with 00:00\n",
    "df['opening_hours'] = df['opening_hours'].str.replace(\"24:00\", \"00:00\")\n",
    "\n",
    "# Split into open and close\n",
    "df[['open_str', 'close_str']] = df['opening_hours'].str.split('-', expand=True)\n",
    "\n",
    "# Convert to datetime.time\n",
    "df['open_time'] = pd.to_datetime(df['open_str'], format=\"%H:%M\").dt.time\n",
    "df['close_time'] = pd.to_datetime(df['close_str'], format=\"%H:%M\").dt.time\n",
    "\n",
    "# Function to calculate duration\n",
    "def calculate_duration(open_t, close_t):\n",
    "    open_dt = datetime.datetime.combine(datetime.date.today(), open_t)\n",
    "    close_dt = datetime.datetime.combine(datetime.date.today(), close_t)\n",
    "    \n",
    "    # Handle overnight times\n",
    "    if close_dt <= open_dt:\n",
    "        close_dt += datetime.timedelta(days=1)\n",
    "    \n",
    "    return (close_dt - open_dt).seconds / 3600\n",
    "\n",
    "# Apply the function\n",
    "df['duration_hours'] = df.apply(lambda row: calculate_duration(row['open_time'], row['close_time']), axis=1)\n"
   ]
  },
  {
   "cell_type": "code",
   "execution_count": 28,
   "id": "edd89d00",
   "metadata": {},
   "outputs": [],
   "source": [
    "df.drop(columns=['open_str', 'close_str'], inplace=True)\n"
   ]
  },
  {
   "cell_type": "code",
   "execution_count": 29,
   "id": "56f69a0a",
   "metadata": {},
   "outputs": [
    {
     "name": "stdout",
     "output_type": "stream",
     "text": [
      "           name           amenity  shop tourism       osm_id osm_type  \\\n",
      "0         Powex              fuel  <NA>    <NA>  11935384514    nodes   \n",
      "3   Lavage Auto          car_wash  <NA>    <NA>   3936374511    nodes   \n",
      "4  Orange Money  bureau_de_change  <NA>    <NA>   3931437128    nodes   \n",
      "5   Lavage Auto          car_wash  <NA>    <NA>   3931437125    nodes   \n",
      "6    Restaurant        restaurant  <NA>    <NA>   3930671817    nodes   \n",
      "\n",
      "                   geometry opening_hours  reviews  rating     business_type  \\\n",
      "0  POINT (-5.41568 6.73264)   00:00-23:59      327     2.1              fuel   \n",
      "3  POINT (-4.04981 5.32225)   08:00-17:00      379     2.7          car_wash   \n",
      "4   POINT (-4.0582 5.32378)   11:00-18:00      140     4.4  bureau_de_change   \n",
      "5    POINT (-4.057 5.32371)   08:00-17:00      125     4.4          car_wash   \n",
      "6  POINT (-4.05483 5.32221)   10:00-23:00      114     2.8        restaurant   \n",
      "\n",
      "  open_time close_time  duration_hours  \n",
      "0  00:00:00   23:59:00       23.983333  \n",
      "3  08:00:00   17:00:00        9.000000  \n",
      "4  11:00:00   18:00:00        7.000000  \n",
      "5  08:00:00   17:00:00        9.000000  \n",
      "6  10:00:00   23:00:00       13.000000  \n"
     ]
    }
   ],
   "source": [
    "print(df.head())"
   ]
  }
 ],
 "metadata": {
  "kernelspec": {
   "display_name": "babiguide",
   "language": "python",
   "name": "python3"
  },
  "language_info": {
   "codemirror_mode": {
    "name": "ipython",
    "version": 3
   },
   "file_extension": ".py",
   "mimetype": "text/x-python",
   "name": "python",
   "nbconvert_exporter": "python",
   "pygments_lexer": "ipython3",
   "version": "3.11.13"
  }
 },
 "nbformat": 4,
 "nbformat_minor": 5
}
