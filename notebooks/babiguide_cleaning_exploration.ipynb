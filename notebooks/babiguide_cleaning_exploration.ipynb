{
 "cells": [
  {
   "cell_type": "code",
   "execution_count": 18,
   "id": "2e65e7a4",
   "metadata": {},
   "outputs": [
    {
     "name": "stdout",
     "output_type": "stream",
     "text": [
      "File found!\n",
      "            name name:en           amenity man_made  shop tourism  \\\n",
      "0          Powex    None              fuel     None  None    None   \n",
      "1           None    None            police     None  None    None   \n",
      "2  ASA Formation    None           college     None  None    None   \n",
      "3    Lavage Auto    None          car_wash     None  None    None   \n",
      "4   Orange Money    None  bureau_de_change     None  None    None   \n",
      "\n",
      "  opening_hours  beds rooms addr:full addr:housenumber addr:street addr:city  \\\n",
      "0          None  None  None      None             None        None      None   \n",
      "1          None  None  None      None             None        None      None   \n",
      "2          None  None  None      None             None        None      None   \n",
      "3          None  None  None      None             None        None      None   \n",
      "4          None  None  None      None             None        None      None   \n",
      "\n",
      "  source name:fr       osm_id osm_type                  geometry  \n",
      "0   None    None  11935384514    nodes  POINT (-5.41568 6.73264)  \n",
      "1   None    None   3947545365    nodes  POINT (-6.07418 9.60695)  \n",
      "2   None    None   3936374505    nodes  POINT (-4.05095 5.32235)  \n",
      "3   None    None   3936374511    nodes  POINT (-4.04981 5.32225)  \n",
      "4   None    None   3931437128    nodes   POINT (-4.0582 5.32378)  \n"
     ]
    }
   ],
   "source": [
    "import os\n",
    "import geopandas as gpd\n",
    "import pandas as pd\n",
    "\n",
    "# Data path\n",
    "file_path = \"../data/raw/abidjan_pois.geojson\"\n",
    "\n",
    "# Check if file exists\n",
    "if os.path.isfile(file_path):\n",
    "    print(\"File found!\")\n",
    "    # Load raw data\n",
    "    gdf = gpd.read_file(file_path)\n",
    "    # Inspect first few rows\n",
    "    print(gdf.head())\n",
    "else:\n",
    "    print(\"File not found. Check the path:\", file_path)\n"
   ]
  },
  {
   "cell_type": "code",
   "execution_count": 4,
   "id": "23fe2c13",
   "metadata": {},
   "outputs": [
    {
     "name": "stdout",
     "output_type": "stream",
     "text": [
      "Original rows: 55875\n"
     ]
    }
   ],
   "source": [
    "print(\"Original rows:\", len(gdf))"
   ]
  },
  {
   "cell_type": "code",
   "execution_count": 5,
   "id": "579100f5",
   "metadata": {},
   "outputs": [
    {
     "name": "stdout",
     "output_type": "stream",
     "text": [
      "Columns: Index(['name', 'name:en', 'amenity', 'man_made', 'shop', 'tourism',\n",
      "       'opening_hours', 'beds', 'rooms', 'addr:full', 'addr:housenumber',\n",
      "       'addr:street', 'addr:city', 'source', 'name:fr', 'osm_id', 'osm_type',\n",
      "       'geometry'],\n",
      "      dtype='object')\n"
     ]
    }
   ],
   "source": [
    "print(\"Columns:\", gdf.columns)"
   ]
  },
  {
   "cell_type": "code",
   "execution_count": 6,
   "id": "58c00d09",
   "metadata": {},
   "outputs": [
    {
     "name": "stdout",
     "output_type": "stream",
     "text": [
      "Missing values per column:\n",
      " name                15605\n",
      "name:en             55630\n",
      "amenity             29305\n",
      "man_made            53244\n",
      "shop                29613\n",
      "tourism             54151\n",
      "opening_hours       54428\n",
      "beds                55874\n",
      "rooms               55863\n",
      "addr:full           55844\n",
      "addr:housenumber    55720\n",
      "addr:street         54943\n",
      "addr:city           55049\n",
      "source              45858\n",
      "name:fr             54995\n",
      "osm_id                  0\n",
      "osm_type                0\n",
      "geometry                0\n",
      "dtype: int64\n"
     ]
    }
   ],
   "source": [
    "print(\"Missing values per column:\\n\", gdf.isna().sum())"
   ]
  },
  {
   "cell_type": "code",
   "execution_count": 7,
   "id": "37b2a504",
   "metadata": {},
   "outputs": [],
   "source": [
    "columns_to_keep = ['name', 'amenity', 'shop', 'tourism', 'osm_id', 'osm_type', 'geometry']\n",
    "gdf_clean = gdf[columns_to_keep]"
   ]
  },
  {
   "cell_type": "code",
   "execution_count": 8,
   "id": "47b189f8",
   "metadata": {},
   "outputs": [],
   "source": [
    "gdf_clean = gdf_clean.dropna(subset=['name', 'amenity'])"
   ]
  },
  {
   "cell_type": "code",
   "execution_count": 9,
   "id": "cca7cf5c",
   "metadata": {},
   "outputs": [],
   "source": [
    "gdf_clean = gdf_clean.drop_duplicates()"
   ]
  },
  {
   "cell_type": "code",
   "execution_count": 10,
   "id": "b6d27a37",
   "metadata": {},
   "outputs": [],
   "source": [
    "gdf_clean = gdf_clean.reset_index(drop=True)"
   ]
  },
  {
   "cell_type": "code",
   "execution_count": 11,
   "id": "857f6df1",
   "metadata": {},
   "outputs": [
    {
     "name": "stdout",
     "output_type": "stream",
     "text": [
      "Number of rows before cleaning: 55875\n",
      "Number of rows after cleaning: 20734\n",
      "Missing values per column:\n",
      " name            0\n",
      "amenity         0\n",
      "shop        20618\n",
      "tourism     20726\n",
      "osm_id          0\n",
      "osm_type        0\n",
      "geometry        0\n",
      "dtype: int64\n",
      "Columns in cleaned data:\n",
      " Index(['name', 'amenity', 'shop', 'tourism', 'osm_id', 'osm_type', 'geometry'], dtype='object')\n"
     ]
    }
   ],
   "source": [
    "print(\"Number of rows before cleaning:\", len(gdf))\n",
    "print(\"Number of rows after cleaning:\", len(gdf_clean))\n",
    "print(\"Missing values per column:\\n\", gdf_clean.isnull().sum())\n",
    "print(\"Columns in cleaned data:\\n\", gdf_clean.columns)"
   ]
  },
  {
   "cell_type": "code",
   "execution_count": 12,
   "id": "554f9242",
   "metadata": {},
   "outputs": [],
   "source": [
    "gdf_clean['shop'] = gdf_clean['shop'].fillna('None')\n",
    "\n"
   ]
  },
  {
   "cell_type": "code",
   "execution_count": 13,
   "id": "8d886424",
   "metadata": {},
   "outputs": [],
   "source": [
    "gdf_clean['tourism'] = gdf_clean['tourism'].fillna('None')"
   ]
  },
  {
   "cell_type": "code",
   "execution_count": 14,
   "id": "667ff6cc",
   "metadata": {},
   "outputs": [
    {
     "data": {
      "text/plain": [
       "shop       0\n",
       "tourism    0\n",
       "dtype: int64"
      ]
     },
     "execution_count": 14,
     "metadata": {},
     "output_type": "execute_result"
    }
   ],
   "source": [
    "gdf_clean[['shop', 'tourism']].isna().sum()"
   ]
  },
  {
   "cell_type": "code",
   "execution_count": 15,
   "id": "bbe9f0c5",
   "metadata": {},
   "outputs": [
    {
     "name": "stdout",
     "output_type": "stream",
     "text": [
      "Missing values per column:\n",
      " name        0\n",
      "amenity     0\n",
      "shop        0\n",
      "tourism     0\n",
      "osm_id      0\n",
      "osm_type    0\n",
      "geometry    0\n",
      "dtype: int64\n"
     ]
    }
   ],
   "source": [
    "print(\"Missing values per column:\\n\", gdf_clean.isnull().sum())"
   ]
  },
  {
   "cell_type": "code",
   "execution_count": 16,
   "id": "406efe4a",
   "metadata": {},
   "outputs": [
    {
     "name": "stdout",
     "output_type": "stream",
     "text": [
      "            name           amenity  reviews  rating\n",
      "0          Powex              fuel       73     3.1\n",
      "1  ASA Formation           college      380     2.0\n",
      "2    Lavage Auto          car_wash      173     1.6\n",
      "3   Orange Money  bureau_de_change      142     2.7\n",
      "4    Lavage Auto          car_wash      342     1.5\n"
     ]
    }
   ],
   "source": [
    "import random\n",
    "\n",
    "# Add dummy reviews (number of reviews)\n",
    "gdf_clean['reviews'] = [random.randint(0, 500) for _ in range(len(gdf_clean))]\n",
    "\n",
    "# Add dummy ratings (1-5 stars, 1 decimal)\n",
    "gdf_clean['rating'] = [round(random.uniform(1, 5), 1) for _ in range(len(gdf_clean))]\n",
    "\n",
    "# Check\n",
    "print(gdf_clean[['name', 'amenity', 'reviews', 'rating']].head())"
   ]
  }
 ],
 "metadata": {
  "kernelspec": {
   "display_name": "babiguide",
   "language": "python",
   "name": "python3"
  },
  "language_info": {
   "codemirror_mode": {
    "name": "ipython",
    "version": 3
   },
   "file_extension": ".py",
   "mimetype": "text/x-python",
   "name": "python",
   "nbconvert_exporter": "python",
   "pygments_lexer": "ipython3",
   "version": "3.11.13"
  }
 },
 "nbformat": 4,
 "nbformat_minor": 5
}
